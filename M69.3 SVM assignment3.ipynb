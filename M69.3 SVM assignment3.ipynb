{
 "cells": [
  {
   "cell_type": "markdown",
   "id": "7d4c1a7f",
   "metadata": {},
   "source": [
    "# Q1. In order to predict house price based on several characteristics, which regression metric would be the best to employ?\n",
    "Answer: For predicting house prices, the Mean Squared Error (MSE) would be a suitable regression metric. MSE measures the average squared difference between predicted and actual values, which is crucial in understanding the magnitude of errors in predicting house prices.\n",
    "\n",
    "# Q2. If your goal is to predict the actual price of a house as accurately as possible, which metric would be more appropriate between MSE and R-squared?\n",
    "Answer: MSE (Mean Squared Error) would be more appropriate. MSE directly measures the average squared difference between predicted and actual values, providing a clear indication of the prediction accuracy in terms of error magnitude. R-squared, while informative about the proportion of variance explained by the model, does not directly measure prediction accuracy in terms of absolute error.\n",
    "\n",
    "# Q3. Given a dataset with a significant number of outliers, which regression metric would be the most appropriate to use with your SVM model?\n",
    "Answer: When dealing with a dataset containing outliers, Mean Absolute Error (MAE) would be the most appropriate regression metric. MAE is less sensitive to outliers compared to MSE, as it measures the average absolute difference between predicted and actual values. This property makes MAE more robust in the presence of outliers.\n",
    "\n",
    "# Q4. You have built an SVM regression model using a polynomial kernel and found that both MSE and RMSE (Root Mean Squared Error) are very close. Which metric should you choose to use in this case?\n",
    "Answer: In this case, you should choose RMSE (Root Mean Squared Error). RMSE is a more interpretable metric compared to MSE because it is in the same units as the target variable (house prices in this scenario). It also penalizes larger errors more heavily than MSE, providing a clearer picture of the average magnitude of errors in the predicted house prices.\n",
    "\n",
    "# Q5. When comparing different SVM regression models using different kernels (linear, polynomial, RBF), which metric would be most appropriate if your goal is to measure how well the model explains the variance in the target variable?\n",
    "Answer: R-squared (Coefficient of Determination) would be the most appropriate metric in this case. R-squared measures the proportion of variance in the target variable that is explained by the model. A higher R-squared indicates that the model is better at explaining the variability in house prices based on the chosen features, making it suitable for evaluating the explanatory power of different SVM regression models."
   ]
  },
  {
   "cell_type": "code",
   "execution_count": null,
   "id": "393d9a65",
   "metadata": {},
   "outputs": [],
   "source": []
  }
 ],
 "metadata": {
  "kernelspec": {
   "display_name": "Python 3 (ipykernel)",
   "language": "python",
   "name": "python3"
  },
  "language_info": {
   "codemirror_mode": {
    "name": "ipython",
    "version": 3
   },
   "file_extension": ".py",
   "mimetype": "text/x-python",
   "name": "python",
   "nbconvert_exporter": "python",
   "pygments_lexer": "ipython3",
   "version": "3.11.4"
  }
 },
 "nbformat": 4,
 "nbformat_minor": 5
}
