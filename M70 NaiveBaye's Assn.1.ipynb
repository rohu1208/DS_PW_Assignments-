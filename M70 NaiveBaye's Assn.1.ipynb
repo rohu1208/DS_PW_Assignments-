{
 "cells": [
  {
   "cell_type": "markdown",
   "id": "fd51f51c",
   "metadata": {},
   "source": [
    "# Q1. What is Bayes' theorem?\n",
    "Bayes' theorem is a mathematical formula used for determining conditional probabilities. It describes the probability of an event, based on prior knowledge of conditions that might be related to the event. In other words, it updates the probability of a hypothesis as more evidence or information becomes available."
   ]
  },
  {
   "cell_type": "markdown",
   "id": "24f5468a",
   "metadata": {},
   "source": [
    "# Q2. What is the formula for Bayes' theorem?\n",
    "\n",
    "p(A/B)=p(A)*p(B/A)/p(B)"
   ]
  },
  {
   "cell_type": "markdown",
   "id": "1b65437c",
   "metadata": {},
   "source": [
    "### Q3. How is Bayes' theorem used in practice?\n",
    "Bayes' theorem is used in various applications, such as:\n",
    "\n",
    "Medical diagnosis: Updating the probability of a disease given test results.\n",
    "Spam filtering: Determining the probability that an email is spam based on the presence of certain words.\n",
    "Machine learning: Particularly in classifiers like Naive Bayes, to predict the category of a data point based on prior data.\n",
    "Risk assessment: Evaluating the likelihood of various outcomes given historical data."
   ]
  },
  {
   "cell_type": "markdown",
   "id": "22ee6521",
   "metadata": {},
   "source": [
    "# Q4. What is the relationship between Bayes' theorem and conditional probability?# "
   ]
  },
  {
   "cell_type": "code",
   "execution_count": 1,
   "id": "a0dca935",
   "metadata": {},
   "outputs": [],
   "source": [
    "# Bayes' theorem is fundamentally based on conditional probability. \n",
    "# It provides a way to update the probability of a hypothesis given new evidence.\n",
    "\n",
    "# Conditional probability is the probability of an event occurring given that another event has occurred.\n",
    "# It is denoted as P(A|B), the probability of A occurring given B is true.\n",
    "\n",
    "# Bayes' theorem uses conditional probability to 'reverse' the conditions:\n",
    "# It calculates P(A|B) using P(B|A).\n",
    "\n",
    "# In other words, Bayes' theorem allows us to find the probability of a cause (A) given an observed effect (B),\n",
    "# using the probability of the effect given the cause, the probability of the cause, and the probability of the effect.\n"
   ]
  },
  {
   "cell_type": "markdown",
   "id": "8972caac",
   "metadata": {},
   "source": [
    "# Q5. How do you choose which type of Naive Bayes classifier to use for any given problem?\n",
    "There are several types of Naive Bayes classifiers, each suitable for different types of data:\n",
    "\n",
    "1. Gaussian Naive Bayes: Used when the features are continuous and normally distributed.\n",
    "2. Multinomial Naive Bayes: Suitable for discrete data, typically used for text classification problems like spam detection, where word counts are used as features.\n",
    "3. Bernoulli Naive Bayes: Used when features are binary (0 or 1), representing the presence or absence of a feature.\n",
    "The choice depends on the nature of your data:\n",
    "\n",
    "#If the data is continuous and follows a Gaussian distribution, use Gaussian Naive Bayes.\n",
    "\n",
    "#If the data is discrete and represents counts or frequencies, use Multinomial Naive Bayes.\n",
    "\n",
    "#If the data is binary, use Bernoulli Naive Bayes."
   ]
  },
  {
   "cell_type": "markdown",
   "id": "874a4444",
   "metadata": {},
   "source": [
    "# Q6. Assignment:\n",
    "You have a dataset with two features, X1 and X2, and two possible classes, A and B. You want to use Naive\n",
    "Bayes to classify a new instance with features X1 = 3 and X2 = 4. The following table shows the frequency of\n",
    "each feature value for each class:\n",
    "\n",
    "Class X1=1 X1=2 X1=3 X2=1 X2=2 X2=3 X2=4\n",
    "\n",
    "A      3    3     4    4   3     3   3\n",
    "\n",
    "B      2    2     1    2   2     2   3\n",
    "\n",
    "\n",
    "Assuming equal prior probabilities for each class, which class would Naive Bayes predict the new instance\n",
    "to belong to?"
   ]
  },
  {
   "cell_type": "code",
   "execution_count": null,
   "id": "fe2827c8",
   "metadata": {},
   "outputs": [],
   "source": []
  }
 ],
 "metadata": {
  "kernelspec": {
   "display_name": "Python 3 (ipykernel)",
   "language": "python",
   "name": "python3"
  },
  "language_info": {
   "codemirror_mode": {
    "name": "ipython",
    "version": 3
   },
   "file_extension": ".py",
   "mimetype": "text/x-python",
   "name": "python",
   "nbconvert_exporter": "python",
   "pygments_lexer": "ipython3",
   "version": "3.11.4"
  }
 },
 "nbformat": 4,
 "nbformat_minor": 5
}
